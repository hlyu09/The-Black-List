{
 "cells": [
  {
   "cell_type": "code",
   "execution_count": 26,
   "metadata": {},
   "outputs": [],
   "source": [
    "#modules and functions needed\n",
    "import pandas as pd\n",
    "import numpy as np\n",
    "import matplotlib.pyplot as plt\n",
    "\n",
    "from sklearn.preprocessing import StandardScaler \n",
    "from sklearn.svm import SVC\n",
    "from sklearn.svm import SVR\n",
    "from sklearn.pipeline import Pipeline\n",
    "from sklearn.model_selection import *\n",
    "from sklearn.metrics import classification_report\n",
    "from sklearn.ensemble import RandomForestClassifier\n",
    "from scipy.stats import randint\n",
    "from sklearn.tree import DecisionTreeClassifier"
   ]
  },
  {
   "cell_type": "markdown",
   "metadata": {},
   "source": [
    "# Data importing and cleaning"
   ]
  },
  {
   "cell_type": "code",
   "execution_count": 56,
   "metadata": {},
   "outputs": [],
   "source": [
    "#merge two data into one\n",
    "mat = pd.read_csv('student-mat.csv')\n",
    "por = pd.read_csv('student-por.csv')"
   ]
  },
  {
   "cell_type": "code",
   "execution_count": 57,
   "metadata": {},
   "outputs": [
    {
     "name": "stdout",
     "output_type": "stream",
     "text": [
      "False\n",
      "False\n"
     ]
    }
   ],
   "source": [
    "#Check for missing value\n",
    "print(mat.isnull().values.any())\n",
    "print(por.isnull().values.any())"
   ]
  },
  {
   "cell_type": "code",
   "execution_count": 58,
   "metadata": {},
   "outputs": [],
   "source": [
    "#create dummy variable for categorical features, change G3 into binary categorical Pass/Fail\n",
    "def data_reform(df):\n",
    "    df = pd.get_dummies(df, drop_first=True)\n",
    "    for i in range(df.shape[0]):\n",
    "        if df.iloc[i, 15] < 10:\n",
    "            df.iloc[i, 15] = \"Fail\"\n",
    "        else:\n",
    "            df.iloc[i, 15] = \"Pass\"\n",
    "    return df\n",
    "\n",
    "mat = data_reform(mat)\n",
    "por = data_reform(por)\n",
    "\n",
    "#print(mat.head())\n",
    "#print(por.head())"
   ]
  },
  {
   "cell_type": "code",
   "execution_count": 93,
   "metadata": {},
   "outputs": [
    {
     "name": "stdout",
     "output_type": "stream",
     "text": [
      "265 130\n"
     ]
    }
   ],
   "source": [
    "#split math data into 70 30\n",
    "ymat = mat.G3\n",
    "Xmat = mat.drop(columns=['G1', 'G2', 'G3'])\n",
    "print(sum(ymat==\"Pass\"), sum(ymat==\"Fail\"))\n",
    "#Xmat_train, Xmat_test, ymat_train, ymat_test = train_test_split(Xmat,ymat,test_size=0.3, random_state=21)"
   ]
  },
  {
   "cell_type": "code",
   "execution_count": 71,
   "metadata": {},
   "outputs": [],
   "source": [
    "#split por data into 70 30\n",
    "Xpor = por.drop(columns=['G1', 'G2', 'G3'])\n",
    "ypor = por.G3\n",
    "Xpor_train, Xpor_test, ypor_train, ypor_test = train_test_split(Xpor,ypor,test_size=0.3, random_state=22)"
   ]
  },
  {
   "cell_type": "code",
   "execution_count": 130,
   "metadata": {},
   "outputs": [],
   "source": [
    "def find_accuracy(model, fold, X, y):\n",
    "    scores = cross_val_score(model, X, y, cv=fold)\n",
    "    \n",
    "    print(\"accuracy based on cross validation is: %0.3f (+/- %0.3f)\" % (scores.mean(), scores.std() * 2))\n",
    "    return"
   ]
  },
  {
   "cell_type": "markdown",
   "metadata": {},
   "source": [
    "## Support Vectors Classifier"
   ]
  },
  {
   "cell_type": "code",
   "execution_count": 194,
   "metadata": {},
   "outputs": [],
   "source": [
    "def SVC_Grid_Search(X, y, c_vals, gamma_vals, rs=22, testSize = 0.3):\n",
    "    #create pipeline\n",
    "    steps = [('scaler', StandardScaler()),\n",
    "             ('SVM', SVC())]\n",
    "    pipeline = Pipeline(steps)\n",
    "    #create hyperparameter space for grid search\n",
    "    parameters = {'SVM__C':c_vals,\n",
    "                  'SVM__gamma':gamma_vals}\n",
    "    \n",
    "    #Split data into 70 30\n",
    "    X_train, X_test, y_train, y_test = train_test_split(X, y,test_size=testSize, random_state=rs)\n",
    "    \n",
    "    #Grid Search\n",
    "    cv = GridSearchCV(pipeline, parameters, cv=10)\n",
    "    cv.fit(X_train, y_train)\n",
    "    y_pred = cv.predict(X_test)\n",
    "\n",
    "    # Compute and print metrics\n",
    "    print(\"Accuracy: {}\".format(cv.score(X_test, y_test)))\n",
    "    print(classification_report(y_test, y_pred))\n",
    "    print(\"Tuned Model Parameters: {}\".format(cv.best_params_))\n",
    "    best = cv.best_estimator_\n",
    "    best.fit(X,y)\n",
    "    return best"
   ]
  },
  {
   "cell_type": "markdown",
   "metadata": {},
   "source": [
    "### Math case"
   ]
  },
  {
   "cell_type": "code",
   "execution_count": 195,
   "metadata": {
    "scrolled": false
   },
   "outputs": [
    {
     "name": "stdout",
     "output_type": "stream",
     "text": [
      "Accuracy: 0.7310924369747899\n",
      "             precision    recall  f1-score   support\n",
      "\n",
      "       Fail       0.60      0.18      0.27        34\n",
      "       Pass       0.74      0.95      0.84        85\n",
      "\n",
      "avg / total       0.70      0.73      0.67       119\n",
      "\n",
      "Tuned Model Parameters: {'SVM__C': 10, 'SVM__gamma': 0.001}\n"
     ]
    }
   ],
   "source": [
    "#preliminary C and gama\n",
    "cm1 = [1, 10, 100]\n",
    "gm1 = [1, 0.1, 0.01, 0.001]\n",
    "svm1 = SVC_Grid_Search(Xmat, ymat, cm1, gm1)"
   ]
  },
  {
   "cell_type": "markdown",
   "metadata": {},
   "source": [
    "Look further into the hyper parameters c and gamma around given value."
   ]
  },
  {
   "cell_type": "code",
   "execution_count": 196,
   "metadata": {
    "scrolled": true
   },
   "outputs": [
    {
     "name": "stdout",
     "output_type": "stream",
     "text": [
      "Accuracy: 0.7310924369747899\n",
      "             precision    recall  f1-score   support\n",
      "\n",
      "       Fail       0.60      0.18      0.27        34\n",
      "       Pass       0.74      0.95      0.84        85\n",
      "\n",
      "avg / total       0.70      0.73      0.67       119\n",
      "\n",
      "Tuned Model Parameters: {'SVM__C': 10, 'SVM__gamma': 0.0009}\n"
     ]
    }
   ],
   "source": [
    "#Closer look at C and gama\n",
    "cm2 = [10,15,20]\n",
    "gm2 = [0.0001,0.0008,0.0009,0.001, 0.0012, 0.0015]\n",
    "svm2 = SVC_Grid_Search(Xmat, ymat, cm2, gm2)"
   ]
  },
  {
   "cell_type": "code",
   "execution_count": 197,
   "metadata": {
    "scrolled": true
   },
   "outputs": [
    {
     "name": "stdout",
     "output_type": "stream",
     "text": [
      "accuracy based on cross validation is: 0.706 (+/- 0.063)\n",
      "accuracy based on cross validation is: 0.709 (+/- 0.058)\n"
     ]
    }
   ],
   "source": [
    "find_accuracy(svm1, 5, Xmat, ymat)\n",
    "find_accuracy(svm2, 5, Xmat, ymat)"
   ]
  },
  {
   "cell_type": "markdown",
   "metadata": {},
   "source": [
    "### Portuguese case"
   ]
  },
  {
   "cell_type": "code",
   "execution_count": 198,
   "metadata": {
    "scrolled": false
   },
   "outputs": [
    {
     "name": "stdout",
     "output_type": "stream",
     "text": [
      "Accuracy: 0.8358974358974359\n",
      "             precision    recall  f1-score   support\n",
      "\n",
      "       Fail       0.39      0.25      0.30        28\n",
      "       Pass       0.88      0.93      0.91       167\n",
      "\n",
      "avg / total       0.81      0.84      0.82       195\n",
      "\n",
      "Tuned Model Parameters: {'SVM__C': 10, 'SVM__gamma': 0.01}\n"
     ]
    }
   ],
   "source": [
    "#preliminary C and gama\n",
    "cm1 = [1, 10, 100]\n",
    "gm1 = [1, 0.1, 0.01, 0.001]\n",
    "svm3 = SVC_Grid_Search(Xpor, ypor, cm1, gm1)"
   ]
  },
  {
   "cell_type": "markdown",
   "metadata": {},
   "source": [
    "Look further into the hyper parameters c and gamma around given value."
   ]
  },
  {
   "cell_type": "code",
   "execution_count": 199,
   "metadata": {
    "scrolled": true
   },
   "outputs": [
    {
     "name": "stdout",
     "output_type": "stream",
     "text": [
      "Accuracy: 0.841025641025641\n",
      "             precision    recall  f1-score   support\n",
      "\n",
      "       Fail       0.41      0.25      0.31        28\n",
      "       Pass       0.88      0.94      0.91       167\n",
      "\n",
      "avg / total       0.81      0.84      0.82       195\n",
      "\n",
      "Tuned Model Parameters: {'SVM__C': 5, 'SVM__gamma': 0.01}\n"
     ]
    }
   ],
   "source": [
    "#Closer look at C and gama\n",
    "cm3 = [4, 5,10,15,20]\n",
    "gm3 = [0.007,0.008,0.009,0.01, 0.012, 0.015]\n",
    "svm4 = SVC_Grid_Search(Xpor, ypor, cm3, gm3)"
   ]
  },
  {
   "cell_type": "code",
   "execution_count": 200,
   "metadata": {
    "scrolled": true
   },
   "outputs": [
    {
     "name": "stdout",
     "output_type": "stream",
     "text": [
      "accuracy based on cross validation is: 0.809 (+/- 0.166)\n",
      "accuracy based on cross validation is: 0.809 (+/- 0.155)\n"
     ]
    }
   ],
   "source": [
    "find_accuracy(svm3, 5, Xpor, ypor)\n",
    "find_accuracy(svm4, 5, Xpor, ypor)"
   ]
  },
  {
   "cell_type": "markdown",
   "metadata": {},
   "source": [
    "## Tree model"
   ]
  },
  {
   "cell_type": "code",
   "execution_count": 272,
   "metadata": {},
   "outputs": [],
   "source": [
    "def Tree_Grid_Search(X, y, depth, feature, minleaf, rs=22, testSize = 0.3):\n",
    "    #create parameter space\n",
    "    param = {\"max_depth\": depth,\n",
    "             \"max_features\": feature,\n",
    "             \"min_samples_leaf\": minleaf}\n",
    "    tree = DecisionTreeClassifier()\n",
    "    \n",
    "    #Split data into 70 30\n",
    "    X_train, X_test, y_train, y_test = train_test_split(X, y,test_size=testSize, random_state=rs)\n",
    "\n",
    "    tree_cv = RandomizedSearchCV(tree, param, cv=5)\n",
    "    tree_cv.fit(X_train,y_train)\n",
    "    tree_pred = tree_cv.predict(X_test)\n",
    "\n",
    "\n",
    "    # Compute and print metrics\n",
    "    print(\"Accuracy: {}\".format(tree_cv.score(X_test, y_test)))\n",
    "    print(classification_report(y_test, tree_pred))\n",
    "    print(\"Tuned Model Parameters: {}\".format(tree_cv.best_params_))\n",
    "    best = tree_cv.best_estimator_\n",
    "    best.fit(X,y)\n",
    "    return best"
   ]
  },
  {
   "cell_type": "markdown",
   "metadata": {},
   "source": [
    "### Math case"
   ]
  },
  {
   "cell_type": "code",
   "execution_count": 273,
   "metadata": {
    "scrolled": false
   },
   "outputs": [
    {
     "name": "stdout",
     "output_type": "stream",
     "text": [
      "Accuracy: 0.6554621848739496\n",
      "             precision    recall  f1-score   support\n",
      "\n",
      "       Fail       0.37      0.29      0.33        34\n",
      "       Pass       0.74      0.80      0.77        85\n",
      "\n",
      "avg / total       0.63      0.66      0.64       119\n",
      "\n",
      "Tuned Model Parameters: {'min_samples_leaf': 19, 'max_features': 20, 'max_depth': 41}\n",
      "accuracy based on cross validation is: 0.656 (+/- 0.074)\n"
     ]
    }
   ],
   "source": [
    "dt1 = np.arange(1,42)\n",
    "ft1 = np.arange(1,21)\n",
    "mt1 = np.arange(1,21)\n",
    "tree1 = Tree_Grid_Search(Xmat, ymat, dt1, ft1, mt1)\n",
    "find_accuracy(tree1, 5, Xmat, ymat)"
   ]
  },
  {
   "cell_type": "markdown",
   "metadata": {},
   "source": [
    "### Portuguese case"
   ]
  },
  {
   "cell_type": "code",
   "execution_count": 274,
   "metadata": {},
   "outputs": [
    {
     "name": "stdout",
     "output_type": "stream",
     "text": [
      "Accuracy: 0.8205128205128205\n",
      "             precision    recall  f1-score   support\n",
      "\n",
      "       Fail       0.18      0.07      0.10        28\n",
      "       Pass       0.86      0.95      0.90       167\n",
      "\n",
      "avg / total       0.76      0.82      0.79       195\n",
      "\n",
      "Tuned Model Parameters: {'min_samples_leaf': 16, 'max_features': 15, 'max_depth': 33}\n",
      "accuracy based on cross validation is: 0.815 (+/- 0.124)\n"
     ]
    }
   ],
   "source": [
    "tree2 = Tree_Grid_Search(Xpor, ypor, dt1, ft1, mt1)\n",
    "find_accuracy(tree1, 5, Xpor, ypor)"
   ]
  },
  {
   "cell_type": "markdown",
   "metadata": {},
   "source": [
    "## Random Forest Model"
   ]
  },
  {
   "cell_type": "code",
   "execution_count": 283,
   "metadata": {},
   "outputs": [],
   "source": [
    "def RF_Grid_Search(X, y, ne, depth, feature, ms, rs=22, testSize = 0.3):\n",
    "    param_dist = {\"n_estimators\": ne,\n",
    "                  \"max_depth\": depth,\n",
    "                  \"max_features\": feature,\n",
    "                  \"min_samples_split\": ms,\n",
    "                  \"bootstrap\": [True, False]}\n",
    "\n",
    "    rf = RandomForestClassifier()\n",
    "    rf_cv = RandomizedSearchCV(rf, param_dist, cv=5)\n",
    "\n",
    "    #Split data into 70 30\n",
    "    X_train, X_test, y_train, y_test = train_test_split(X, y,test_size=testSize, random_state=rs)\n",
    "    \n",
    "    rf_cv.fit(X_train,y_train)\n",
    "    rf_pred = rf_cv.predict(X_test)\n",
    "\n",
    "    print(\"Accuracy: {}\".format(rf_cv.score(X_test, y_test)))\n",
    "    print(classification_report(y_test, rf_pred))\n",
    "    print(\"Tuned Model Parameters: {}\".format(rf_cv.best_params_))\n",
    "    best = rf_cv.best_estimator_\n",
    "    best.fit(X,y)\n",
    "    return best"
   ]
  },
  {
   "cell_type": "markdown",
   "metadata": {},
   "source": [
    "### Math case"
   ]
  },
  {
   "cell_type": "code",
   "execution_count": 286,
   "metadata": {
    "scrolled": false
   },
   "outputs": [
    {
     "name": "stdout",
     "output_type": "stream",
     "text": [
      "Accuracy: 0.7226890756302521\n",
      "             precision    recall  f1-score   support\n",
      "\n",
      "       Fail       0.53      0.29      0.38        34\n",
      "       Pass       0.76      0.89      0.82        85\n",
      "\n",
      "avg / total       0.69      0.72      0.69       119\n",
      "\n",
      "Tuned Model Parameters: {'n_estimators': 100, 'min_samples_split': 11, 'max_features': 20, 'max_depth': 39, 'bootstrap': True}\n",
      "accuracy based on cross validation is: 0.711 (+/- 0.090)\n"
     ]
    }
   ],
   "source": [
    "nr1 = [10, 100, 120, 150, 200]\n",
    "dr1 = np.arange(1,42)\n",
    "fr1 = np.arange(1,21)\n",
    "mr1 = np.arange(2,21)\n",
    "rf1 = RF_Grid_Search(Xmat, ymat, nr1, dr1, fr1, mr1)\n",
    "find_accuracy(rf1, 5, Xmat, ymat)"
   ]
  },
  {
   "cell_type": "code",
   "execution_count": 287,
   "metadata": {},
   "outputs": [
    {
     "name": "stdout",
     "output_type": "stream",
     "text": [
      "Accuracy: 0.7226890756302521\n",
      "             precision    recall  f1-score   support\n",
      "\n",
      "       Fail       0.53      0.29      0.38        34\n",
      "       Pass       0.76      0.89      0.82        85\n",
      "\n",
      "avg / total       0.69      0.72      0.69       119\n",
      "\n",
      "Tuned Model Parameters: {'n_estimators': 100, 'min_samples_split': 5, 'max_features': 20, 'max_depth': 30, 'bootstrap': True}\n",
      "accuracy based on cross validation is: 0.701 (+/- 0.067)\n"
     ]
    }
   ],
   "source": [
    "nr2 = [10, 100, 200, 250, 300, 400]\n",
    "rf2 = RF_Grid_Search(Xmat, ymat, nr2, dr1, fr1, mr1)\n",
    "find_accuracy(rf2, 5, Xmat, ymat)"
   ]
  },
  {
   "cell_type": "markdown",
   "metadata": {},
   "source": [
    "### Portuguese case"
   ]
  },
  {
   "cell_type": "code",
   "execution_count": 288,
   "metadata": {
    "scrolled": false
   },
   "outputs": [
    {
     "name": "stdout",
     "output_type": "stream",
     "text": [
      "Accuracy: 0.841025641025641\n",
      "             precision    recall  f1-score   support\n",
      "\n",
      "       Fail       0.41      0.25      0.31        28\n",
      "       Pass       0.88      0.94      0.91       167\n",
      "\n",
      "avg / total       0.81      0.84      0.82       195\n",
      "\n",
      "Tuned Model Parameters: {'n_estimators': 150, 'min_samples_split': 18, 'max_features': 17, 'max_depth': 20, 'bootstrap': True}\n",
      "accuracy based on cross validation is: 0.812 (+/- 0.115)\n"
     ]
    }
   ],
   "source": [
    "rf3 = RF_Grid_Search(Xpor, ypor, nr1, dr1, fr1, mr1)\n",
    "find_accuracy(rf3, 5, Xpor, ypor)"
   ]
  }
 ],
 "metadata": {
  "kernelspec": {
   "display_name": "Python 3",
   "language": "python",
   "name": "python3"
  },
  "language_info": {
   "codemirror_mode": {
    "name": "ipython",
    "version": 3
   },
   "file_extension": ".py",
   "mimetype": "text/x-python",
   "name": "python",
   "nbconvert_exporter": "python",
   "pygments_lexer": "ipython3",
   "version": "3.6.5"
  }
 },
 "nbformat": 4,
 "nbformat_minor": 2
}
