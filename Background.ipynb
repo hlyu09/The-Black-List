{
 "cells": [
  {
   "cell_type": "markdown",
   "metadata": {},
   "source": [
    "# Background"
   ]
  },
  {
   "cell_type": "markdown",
   "metadata": {},
   "source": [
    "### Portugal Education"
   ]
  },
  {
   "cell_type": "markdown",
   "metadata": {},
   "source": [
    "Even though Portuguese universities have existed since 1290, by the end of 19th century the illiteracy rate was over 80 percent and higher education was reserved for a small percentage of population. 68.1 percent of Portugal's population was still classified as illiterate by the 1930 census.\n",
    "\n",
    "From the 1960s, the country made public education available for all children between the ages of six and twelve, aiming to increase the literacy rate. However, education more than basic was not affordable for most Portuguese families. The country has applied many policies such as the School Food Support Programme, and the educational level has improved in the last decades. Still, the statistics keep Portugal at Europe's tail end due to its high student failure rates."
   ]
  },
  {
   "cell_type": "markdown",
   "metadata": {},
   "source": [
    "### Secondary Education in Portugal"
   ]
  },
  {
   "cell_type": "markdown",
   "metadata": {},
   "source": [
    "In Portugal, the secondary education consists of 3 years of schooling, preceding 9 years of basic education and followed by higher education. Most of the students join the public and free education system. Like several other countries (e.g. France and Venezuela), a 20-point grading scale is used, where 0 is the lowest grade and 20 is the perfect score. During the school year, students are evaluated in three periods and the last evaluation corresponds to the final grade."
   ]
  },
  {
   "cell_type": "markdown",
   "metadata": {},
   "source": [
    "### Student Alcohol Consumption dataset"
   ]
  },
  {
   "cell_type": "markdown",
   "metadata": {},
   "source": [
    "The data we use were obtained in a survey of students from math and portuguese language courses in 2 secondary schools in Portugal. It was analyzed by Cortez and Silva to predict secondary school student performance. The database was built from two sources: school reports, based on paper sheets and including few attributes (i.e. the three period grades and number of absences); and questionnaires, used to complement the previous information. The latter was designed with closed questions with predefined options related to several demographic, social/emotional and school related variables that were expected to affect student performance. The final version contained 37 questions in a single A4 sheet and it was answered in class by 788 students. Later, 111 answers were discarded due to lack of identification details which were necessary for merging with the school reports. Finally, the data was integrated into two datasets related to Mathematics and the Portuguese language classes. Details for each variable in the dataset is listed below:"
   ]
  },
  {
   "cell_type": "markdown",
   "metadata": {},
   "source": [
    "\n",
    "\\begin{array}{|c|c|}\n",
    "\\hline Attribute & Description (Domain) \\\\\\hline\n",
    "  sex & student’s\\space sex\\space (binary: female\\space or\\space male) \\\\\\hline\n",
    "  age & student’s\\space age\\space (numeric:\\space from\\space 15\\space to\\space 22) \\\\\\hline\n",
    "  school & student’s\\space school\\space (binary:\\space Gabriel\\space Pereira\\space or\\space Mousinho\\space da\\space Silveira\\space) \\\\\\hline\n",
    "  address & student’s\\space home\\space address\\space type\\space (binary:\\space urban\\space or\\space rural) \\\\\\hline\n",
    "  Pstatus & parent’s\\space cohabitation\\space status\\space (binary:\\space living\\space together\\space or\\space apart) \\\\\\hline\n",
    "  Medu & mother’s\\space education\\space (numeric:\\space from\\space 0\\space to\\space 4^a) \\\\\\hline\n",
    "  Mjob & mother’s\\space job\\space (nominal^b ) \\\\\\hline\n",
    "  Fedu & father’s\\space education\\space (numeric:\\space from\\space 0\\space to\\space 4^a) \\\\\\hline\n",
    "  Fjob & father’s\\space job\\space (nominal^b ) \\\\\\hline\n",
    "  guardian & student’s\\space guardian\\space (nominal:\\space mother, \\space father\\space or\\space other) \\\\\\hline\n",
    "  famsize & family\\space size\\space (binary:\\space ≤\\space 3\\space or\\space >\\space 3) \\\\\\hline\n",
    "  famrel & quality\\space of\\space family\\space relationships\\space (numeric:\\space from\\space 1\\space –\\space very\\space bad\\space to\\space 5\\space –\\space excellent) \\\\\\hline\n",
    "  reason & reason\\space to\\space choose\\space this\\space school\\space (nominal:\\space close\\space to\\space home,\\space school\\space reputation,\\space course\\space preference\\space or\\space other) \\\\\\hline\n",
    "  traveltime & home\\space to\\space school\\space travel\\space time\\space(numeric:\\space 1\\space – \\space <15min.\\space ,2\\space –\\space 15\\space to\\space 30min.\\space , 3\\space –\\space 30min.\\space  to \\space 1\\space hour \\space or \\space 4\\space  –\\space >\\space 1\\space hour) \\\\\\hline\n",
    "  studytime & weekly\\space study\\space time(numeric:\\space 1\\space –\\space <\\space 2\\space hours,2\\space –\\space 2\\space to\\space 5\\space hours,3\\space –\\space 5\\space to\\space 10\\space hours\\space or\\space 4\\space –\\space >\\space 10hours) \\\\\\hline\n",
    "  failures & number\\space  of\\space  past\\space  class\\space  failures\\space  (numeric:\\space  n\\space  if\\space  1\\space  ≤\\space  n\\space  <\\space  3 ,\\space  else\\space  4) \\\\\\hline\n",
    "  schoolsup & extra\\space  educational\\space  school\\space  support\\space  (binary:\\space  yes\\space  or\\space  no) \\\\\\hline\n",
    "  famsup & family\\space  educational\\space  support\\space  (binary:\\space  yes\\space  or\\space  no) \\\\\\hline\n",
    "  activities & extra-curricular\\space  activities\\space  (binary:\\space  yes\\space  or\\space  no) \\\\\\hline\n",
    "  paidclass & extra\\space  paid\\space  classes\\space  (binary:\\space  yes\\space  or\\space  no) \\\\\\hline\n",
    "  internet & Internet\\space  access\\space  at\\space  home\\space  (binary:\\space  yes\\space  or\\space  no) \\\\\\hline\n",
    "  nursery & attended\\space  nursery\\space  school\\space  (binary:\\space  yes\\space  or\\space  no) \\\\\\hline\n",
    "  higher & wants\\space  to\\space  take\\space  higher\\space  education\\space  (binary:\\space  yes\\space  or\\space  no) \\\\\\hline\n",
    "  romantic & with\\space  a\\space  romantic\\space  relationship\\space  (binary:\\space  yes\\space  or\\space  no) \\\\\\hline\n",
    "  freetime & free\\space  time\\space  after\\space  school\\space  (numeric:\\space  from\\space  1\\space  –\\space  very\\space low\\space  to\\space  5\\space  –\\space  very\\space  high) \\\\\\hline\n",
    "  goout & going\\space  out\\space  with\\space  friends\\space  (numeric:\\space  from\\space  1\\space  –\\space  very\\space  low\\space  to\\space  5\\space  –\\space  very\\space  high) \\\\\\hline\n",
    "  Walc & weekend\\space  alcohol\\space  consumption\\space  (numeric:\\space  from\\space  1\\space  –\\space  very\\space  low\\space  to\\space  5\\space  –\\space  very\\space  high) \\\\\\hline\n",
    "  Dalc & workday\\space  alcohol\\space  consumption\\space  (numeric:\\space  from\\space  1\\space  –\\space very\\space  low\\space  to\\space  5\\space  –\\space  very\\space  high) \\\\\\hline\n",
    "  health  & current\\space  health\\space  status\\space  (numeric:\\space  from\\space  1\\space  –\\space  very\\space  bad\\space  to\\space  5\\space  –\\space  very\\space  good) \\\\\\hline\n",
    "  absences & number\\space  of\\space  school\\space  absences\\space  (numeric:\\space  from\\space  0\\space  to\\space  93) \\\\\\hline\n",
    "  G1 & first\\space  period\\space  grade\\space  (numeric:\\space  from\\space  0\\space  to\\space  20) \\\\\\hline\n",
    "  G2 & second\\space period\\space grade\\space (numeric:\\space from\\space 0\\space to\\space 20) \\\\\\hline\n",
    "  G3 & final\\space grade\\space\\space (numeric:\\space from\\space 0\\space to\\space 20) \\\\\\hline\n",
    "\\end{array}\n",
    "\n",
    "a:    0 - none, 1 - primary education (4th grade), 2 - 5th to 9th grade, 3 - secondary education or 4 - higher education.\n",
    "\n",
    "b:    teacher, health care related, civil services, at home or other"
   ]
  },
  {
   "cell_type": "markdown",
   "metadata": {},
   "source": [
    "Each row is an observational unit in the dataset, representing one student. There are 382 students that belong to both datasets, so there will be 382 students that have 2 rows for their attributes."
   ]
  },
  {
   "cell_type": "markdown",
   "metadata": {},
   "source": [
    "In Cortez and Silva's research, the Mathematics and Portuguese grades were modeled using three supervised approaches:\n",
    "1. Binary classification - pass if G3 ≥ 10, else fail;\n",
    "2. 5-Level classification - based on the Erasmus grade conversion system;\n",
    "3. Regression - the G3 value (numeric output between 0 and 20)"
   ]
  },
  {
   "cell_type": "markdown",
   "metadata": {},
   "source": [
    "Erasmus grade conversion system is the European exchange programme that enables student exchange in 31 countries. Its conversion table is listed below:"
   ]
  },
  {
   "cell_type": "markdown",
   "metadata": {},
   "source": [
    "\\begin{array}{|c|c|c|c|c|c|}\n",
    "\\hline Country & I & II & III & IV & V \\\\\\hline\n",
    "\\hline Portugal/France & 16-20 & 14-15 & 12-13 & 10-11 & 0-9 \\\\\\hline\n",
    "\\hline Ireland & A & B & C & D & F \\\\\\hline\n",
    "\\end{array}"
   ]
  },
  {
   "cell_type": "markdown",
   "metadata": {},
   "source": [
    "### Conclusion from the study"
   ]
  },
  {
   "cell_type": "markdown",
   "metadata": {},
   "source": [
    "In their study, Cortez and Silva used three different Data Mining goals (i.e. binary/5-level classfication and regression) and four DM methods, i.e. Decision Trees, Random Forests, Neural Networks and Support Vector Machines, were tested. Also, distinct input selections (e.g. with or without past grades) were explored."
   ]
  },
  {
   "cell_type": "markdown",
   "metadata": {},
   "source": [
    "The obtained results reveal that it is possible to achieve a high predictive accuracy, provided that the first and/or second school period grades are known, showing that student achievement is highly affected by previous performances. The predictive models also show that, in some cases, there are other relevant features, such as: school related, demographic and social variables."
   ]
  },
  {
   "cell_type": "markdown",
   "metadata": {},
   "source": [
    "In our opinion, we think there can be a broader conclusion drawn from the dataset. Cortez and Silva weighted heavily on past grades because they were official records. However, the questionnaires may also have relevant factors affecting student achievement. We would like to examine the relationship between the final grade and other variables in the dataset, and test if those factors have significant influence on student achievement. "
   ]
  },
  {
   "cell_type": "markdown",
   "metadata": {},
   "source": [
    "### Other studies about Portugal education"
   ]
  },
  {
   "cell_type": "markdown",
   "metadata": {},
   "source": [
    "There are also many other studies related to Portugal education system, and we select some of their conclusions as comparisons to our own studies, and as a supplement of information for this topic."
   ]
  },
  {
   "cell_type": "markdown",
   "metadata": {},
   "source": [
    "- Family influence on education\n",
    "\n",
    " Martins and Veiga studies 15 European Union member states on socioeconomic-related inequality in mathematics achievement. There are important differences among countries, and the equality is high in Portugal. In Portugal, parents education has a large influence on students achievement."
   ]
  },
  {
   "cell_type": "markdown",
   "metadata": {},
   "source": [
    "- Is it worthy to study in Portugal\n",
    "\n",
    " Hartog et al. find that returns to education in Portugal have incrased, particularly after joining the European Union in 1986. However the effect of education is not constant across the conditional wage distribution. The effect is higher for those who have higher wage. Wage inequality expaned in Portugal over the 1980s and the returns to education had an important role in this process.\n",
    " \n",
    " However, Kiker et al. claim that education may not have a major influence on salaries. In their research, they state that workers with higher education need less on-site training, while workers without higher education ( but can start work several years early) will spend more time on training, resulting in similar human capital. Therefore, they conclude, influence of education is not as large as other studies showed."
   ]
  },
  {
   "cell_type": "markdown",
   "metadata": {},
   "source": [
    "- How the new idea changes Portugal education\n",
    "\n",
    " Franco et al. study on the effects of national cultural background of European educators on the acceptance and usage of Web. They seperate European countries into two groups base on the results. The Nordic culture is driven more by instrumental factors and intrinsic enjoyment-based factors. On the other hand, the PSG-Mediterranean culture (including Portugal) seems to regard the Web more as a means to a social end.\n",
    " \n",
    " New wave of management in higher education is changing the western countries. However, as Santiago et al. notice, Portugal institutions have a contradictory phenomenon. The management team in higher education institutions cannot focus on management only, and are desiring to spend more time on other things. The conflict between traditional academic approaches and management need a long time to be resolved."
   ]
  },
  {
   "cell_type": "markdown",
   "metadata": {},
   "source": [
    "## Reference"
   ]
  },
  {
   "cell_type": "markdown",
   "metadata": {},
   "source": [
    "Hartog, Joop, et al. “Changing Returns to Education in Portugal during the 1980s and Early 1990s: OLS and Quantile Regression Estimators.” Applied Economics, vol. 33, no. 8, 2001, pp. 1021–1037., doi:10.1080/00036840122679."
   ]
  },
  {
   "cell_type": "markdown",
   "metadata": {},
   "source": [
    "Kiker, B.f., et al. “Overeducation and Undereducation: Evidence for Portugal.” Economics of Education Review, vol. 16, no. 2, 1997, pp. 111–125., doi:10.1016/s0272-7757(96)00040-4."
   ]
  },
  {
   "cell_type": "markdown",
   "metadata": {},
   "source": [
    "Martins, Lurdes, and Paula Veiga. “Do Inequalities in Parents’ Education Play an Important Role in PISA Students’ Mathematics Achievement Test Score Disparities?” Economics of Education Review, vol. 29, no. 6, 2010, pp. 1016–1033., doi:10.1016/j.econedurev.2010.05.001."
   ]
  },
  {
   "cell_type": "markdown",
   "metadata": {},
   "source": [
    "P. Cortez and A. Silva. Using Data Mining to Predict Secondary School Student Performance. In A. Brito and J. Teixeira Eds., Proceedings of 5th FUture BUsiness TEChnology Conference (FUBUTEC 2008) pp. 5-12, Porto, Portugal, April, 2008, EUROSIS, ISBN 978-9077381-39-7."
   ]
  },
  {
   "cell_type": "markdown",
   "metadata": {},
   "source": [
    "Sánchez-Franco, Manuel J., et al. “Exploring the Impact of Individualism and Uncertainty Avoidance in Web-Based Electronic Learning: An Empirical Analysis in European Higher Education.” Computers & Education, vol. 52, no. 3, 2009, pp. 588–598., doi:10.1016/j.compedu.2008.11.006."
   ]
  },
  {
   "cell_type": "markdown",
   "metadata": {},
   "source": [
    "Santiago, Rui, et al. “Changing Patterns in the Middle Management of Higher Education Institutions: The Case of Portugal.” Higher Education, vol. 52, no. 2, 2006, pp. 215–250., doi:10.1007/s10734-004-2747-3."
   ]
  }
 ],
 "metadata": {
  "kernelspec": {
   "display_name": "Python 3",
   "language": "python",
   "name": "python3"
  },
  "language_info": {
   "codemirror_mode": {
    "name": "ipython",
    "version": 3
   },
   "file_extension": ".py",
   "mimetype": "text/x-python",
   "name": "python",
   "nbconvert_exporter": "python",
   "pygments_lexer": "ipython3",
   "version": "3.6.5"
  }
 },
 "nbformat": 4,
 "nbformat_minor": 2
}
